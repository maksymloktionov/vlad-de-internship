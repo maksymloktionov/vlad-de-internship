{
 "cells": [
  {
   "cell_type": "code",
   "execution_count": 0,
   "metadata": {
    "application/vnd.databricks.v1+cell": {
     "cellMetadata": {
      "byteLimit": 2048000,
      "rowLimit": 10000
     },
     "inputWidgets": {},
     "nuid": "012f1125-ed0a-48f4-82fb-5337a5c32a13",
     "showTitle": false,
     "tableResultSettingsMap": {},
     "title": ""
    }
   },
   "outputs": [
    {
     "name": "stderr",
     "output_type": "stream",
     "text": [
      "2024/11/22 14:51:56 INFO mlflow.tracking.fluent: Experiment with name '/Users/shozatko@gmail.com/RandomForestRegressor_Experiment' does not exist. Creating a new experiment.\n",
      "2024/11/22 14:52:15 WARNING mlflow.models.model: Model logged without a signature. Signatures will be required for upcoming model registry features as they validate model inputs and denote the expected schema of model outputs. Please visit https://www.mlflow.org/docs/2.11.4/models.html#set-signature-on-logged-model for instructions on setting a model signature on your logged model.\n"
     ]
    }
   ],
   "source": [
    "import mlflow\n",
    "import mlflow.sklearn\n",
    "from sklearn.ensemble import RandomForestRegressor\n",
    "from sklearn.metrics import mean_squared_error\n",
    "from sklearn.model_selection import train_test_split\n",
    "from sklearn.datasets import fetch_california_housing\n",
    "\n",
    "housing = fetch_california_housing()\n",
    "X = housing.data\n",
    "y = housing.target\n",
    "\n",
    "X_train, X_test, y_train, y_test = train_test_split(X, y, test_size=0.2, random_state=42)\n",
    "\n",
    "mlflow.set_experiment(\"/Users/shozatko@gmail.com/RandomForestRegressor_Experiment\")\n",
    "\n",
    "with mlflow.start_run():\n",
    "    rf = RandomForestRegressor(n_estimators=100, random_state=42)\n",
    "    rf.fit(X_train, y_train)\n",
    "    \n",
    "    predictions = rf.predict(X_test)\n",
    "    \n",
    "    mlflow.sklearn.log_model(rf, \"random_forest_model\")\n",
    "    \n",
    "    mse = mean_squared_error(y_test, predictions)\n",
    "    mlflow.log_metric(f\"mse\", mse)\n",
    "    \n",
    "    mlflow.log_param(f\"n_estimators\", 100)\n",
    "    mlflow.log_param(f\"random_state\", 42)"
   ]
  }
 ],
 "metadata": {
  "application/vnd.databricks.v1+notebook": {
   "dashboards": [],
   "environmentMetadata": {
    "base_environment": "",
    "client": "1"
   },
   "language": "python",
   "notebookMetadata": {
    "pythonIndentUnit": 4
   },
   "notebookName": "Experiments",
   "widgets": {}
  },
  "language_info": {
   "name": "python"
  }
 },
 "nbformat": 4,
 "nbformat_minor": 0
}
