{
 "cells": [
  {
   "cell_type": "code",
   "execution_count": 31,
   "metadata": {},
   "outputs": [],
   "source": [
    "import pyspark\n",
    "import pyspark.sql\n",
    "import io\n",
    "import pandas as pd\n",
    "import requests\n",
    "import psycopg2\n",
    "from pyspark.sql.functions import col, translate, element_at, split, to_date"
   ]
  },
  {
   "cell_type": "code",
   "execution_count": 2,
   "metadata": {},
   "outputs": [
    {
     "name": "stderr",
     "output_type": "stream",
     "text": [
      "24/11/05 16:01:59 WARN Utils: Your hostname, MacBook-Pro.local resolves to a loopback address: 127.0.0.1; using 10.10.229.176 instead (on interface en0)\n",
      "24/11/05 16:01:59 WARN Utils: Set SPARK_LOCAL_IP if you need to bind to another address\n",
      "24/11/05 16:01:59 WARN NativeCodeLoader: Unable to load native-hadoop library for your platform... using builtin-java classes where applicable\n",
      "Setting default log level to \"WARN\".\n",
      "To adjust logging level use sc.setLogLevel(newLevel). For SparkR, use setLogLevel(newLevel).\n"
     ]
    }
   ],
   "source": [
    "spark = pyspark.sql.SparkSession.builder \\\n",
    "                    .appName(\"LocalSparkProject\") \\\n",
    "                    .master(\"local[4]\") \\\n",
    "                    .config(\"spark.jars\", \"./psql_adapter/postgresql-42.7.4.jar\") \\\n",
    "                    .config(\"spark.executor.memory\", \"6g\") \\\n",
    "                    .config(\"spark.executor.memory\", \"4g\") \\\n",
    "                    .getOrCreate()"
   ]
  },
  {
   "cell_type": "code",
   "execution_count": 3,
   "metadata": {},
   "outputs": [],
   "source": [
    "def load_data_from_url_as_spark_df(url, **params):\n",
    "    \"\"\"Loads data from url. Optional keyword arguments are passed to pandas.read_csv.\"\"\"\n",
    "    response = requests.get(url)\n",
    "    dx = pd.read_csv(io.BytesIO(response.content), **params)  \n",
    "    return spark.createDataFrame(dx)"
   ]
  },
  {
   "cell_type": "code",
   "execution_count": 4,
   "metadata": {},
   "outputs": [],
   "source": [
    "listings_url = \"https://data.insideairbnb.com/france/ile-de-france/paris/2024-09-06/data/listings.csv.gz\""
   ]
  },
  {
   "cell_type": "code",
   "execution_count": 14,
   "metadata": {},
   "outputs": [],
   "source": [
    "listings_df = load_data_from_url_as_spark_df(listings_url, sep=',', index_col=0, quotechar='\"', compression='gzip')"
   ]
  },
  {
   "cell_type": "code",
   "execution_count": 6,
   "metadata": {},
   "outputs": [
    {
     "name": "stderr",
     "output_type": "stream",
     "text": [
      "24/11/05 16:02:22 WARN SparkStringUtils: Truncated the string representation of a plan since it was too large. This behavior can be adjusted by setting 'spark.sql.debug.maxToStringFields'.\n",
      "24/11/05 16:02:23 WARN TaskSetManager: Stage 0 contains a task of very large size (41281 KiB). The maximum recommended task size is 1000 KiB.\n",
      "24/11/05 16:02:27 WARN PythonRunner: Detected deadlock while completing task 0.0 in stage 0 (TID 0): Attempting to kill Python Worker\n",
      "                                                                                \r"
     ]
    },
    {
     "name": "stdout",
     "output_type": "stream",
     "text": [
      "+--------------------+--------------+------------+---------------+--------------------+--------------------+---------------------+--------------------+-------+--------------------+-----------------+----------+-------------+--------------------+------------------+------------------+--------------------+-----------------+--------------------+--------------------+--------------------+-------------------+-------------------------+--------------------+--------------------+----------------------+--------------------+----------------------+----------------------------+-----------------+-----------------+--------------------+---------------+------------+---------+--------------+--------+----+--------------------+-------+--------------+--------------+----------------------+----------------------+----------------------+----------------------+----------------------+----------------------+----------------+----------------+---------------+---------------+---------------+----------------+---------------------+-----------------+---------------------+----------------------+------------+-----------+--------------------+----------------------+-------------------------+---------------------+---------------------------+----------------------+-------------------+--------------------+----------------+------------------------------+-------------------------------------------+--------------------------------------------+-------------------------------------------+-----------------+\n",
      "|         listing_url|     scrape_id|last_scraped|         source|                name|         description|neighborhood_overview|         picture_url|host_id|            host_url|        host_name|host_since|host_location|          host_about|host_response_time|host_response_rate|host_acceptance_rate|host_is_superhost|  host_thumbnail_url|    host_picture_url|  host_neighbourhood|host_listings_count|host_total_listings_count|  host_verifications|host_has_profile_pic|host_identity_verified|       neighbourhood|neighbourhood_cleansed|neighbourhood_group_cleansed|         latitude|        longitude|       property_type|      room_type|accommodates|bathrooms|bathrooms_text|bedrooms|beds|           amenities|  price|minimum_nights|maximum_nights|minimum_minimum_nights|maximum_minimum_nights|minimum_maximum_nights|maximum_maximum_nights|minimum_nights_avg_ntm|maximum_nights_avg_ntm|calendar_updated|has_availability|availability_30|availability_60|availability_90|availability_365|calendar_last_scraped|number_of_reviews|number_of_reviews_ltm|number_of_reviews_l30d|first_review|last_review|review_scores_rating|review_scores_accuracy|review_scores_cleanliness|review_scores_checkin|review_scores_communication|review_scores_location|review_scores_value|             license|instant_bookable|calculated_host_listings_count|calculated_host_listings_count_entire_homes|calculated_host_listings_count_private_rooms|calculated_host_listings_count_shared_rooms|reviews_per_month|\n",
      "+--------------------+--------------+------------+---------------+--------------------+--------------------+---------------------+--------------------+-------+--------------------+-----------------+----------+-------------+--------------------+------------------+------------------+--------------------+-----------------+--------------------+--------------------+--------------------+-------------------+-------------------------+--------------------+--------------------+----------------------+--------------------+----------------------+----------------------------+-----------------+-----------------+--------------------+---------------+------------+---------+--------------+--------+----+--------------------+-------+--------------+--------------+----------------------+----------------------+----------------------+----------------------+----------------------+----------------------+----------------+----------------+---------------+---------------+---------------+----------------+---------------------+-----------------+---------------------+----------------------+------------+-----------+--------------------+----------------------+-------------------------+---------------------+---------------------------+----------------------+-------------------+--------------------+----------------+------------------------------+-------------------------------------------+--------------------------------------------+-------------------------------------------+-----------------+\n",
      "|https://www.airbn...|20240906025355|  2024-09-11|    city scrape|        zen and calm|Lovely Appartment...| Good restaurants<...|https://a0.muscac...|   3631|https://www.airbn...|             Anne|2008-10-14|Paris, France|                 NaN|               NaN|               NaN|                 67%|                f|https://a0.muscac...|https://a0.muscac...|              Alésia|                1.0|                      1.0|  ['email', 'phone']|                   t|                     t|Neighborhood high...|          Observatoire|                         NaN|         48.83191|           2.3187|  Entire rental unit|Entire home/apt|           2|      1.0|        1 bath|     1.0| 1.0|[\"Cooking basics\"...|$113.00|             2|            30|                     2|                     2|                    30|                    30|                   2.0|                  30.0|             NaN|               t|              6|             20|             35|             297|           2024-09-11|                4|                    0|                     0|  2017-10-28| 2019-10-24|                 5.0|                   5.0|                      5.0|                  5.0|                        5.0|                   5.0|                5.0|       7511409139079|               t|                             1|                                          1|                                           0|                                          0|             0.05|\n",
      "|https://www.airbn...|20240906025355|  2024-09-13|    city scrape|Your perfect Pari...|NEW SOFA-BED SINC...| You are within wa...|https://a0.muscac...|   7903|https://www.airbn...|           Borzou|2009-02-14|Paris, France|We have spent a l...|    within an hour|              100%|                 94%|              NaN|https://a0.muscac...|https://a0.muscac...|Saint-Paul - Ile ...|                2.0|                      4.0|  ['email', 'phone']|                   t|                     t|Neighborhood high...|        Hôtel-de-Ville|                         NaN|         48.85247|          2.35835|  Entire rental unit|Entire home/apt|           2|      1.0|        1 bath|     0.0| 1.0|[\"Hot water\", \"St...| $95.00|             2|           730|                     2|                     2|                  1125|                  1125|                   2.0|                1125.0|             NaN|               t|              3|             24|             54|              77|           2024-09-13|              413|                   57|                     2|  2009-06-30| 2024-09-01|                4.61|                  4.64|                     4.59|                 4.81|                       4.84|                  4.96|               4.59|       7510402838018|               f|                             1|                                          1|                                           0|                                          0|             2.23|\n",
      "|https://www.airbn...|20240906025355|  2024-09-06|    city scrape|MARAIS - 2ROOMS A...|VERY CONVENIENT, ...|                  NaN|https://a0.muscac...|   2626|https://www.airbn...|           Franck|2008-08-30|Paris, France|I am a writer,54,...|    within an hour|              100%|                 67%|                t|https://a0.muscac...|https://a0.muscac...|           Le Marais|                1.0|                     10.0|  ['email', 'phone']|                   t|                     t|                 NaN|        Hôtel-de-Ville|                         NaN|         48.85909|          2.35315|  Entire rental unit|Entire home/apt|           4|      1.0|        1 bath|     2.0| 1.0|[\"Host greets you...|$145.00|            10|           130|                     2|                    10|                   130|                   130|                   9.9|                 130.0|             NaN|               t|              6|             30|             49|             316|           2024-09-06|              360|                   22|                     1|  2011-04-08| 2024-08-27|                4.73|                  4.81|                     4.45|                 4.92|                       4.89|                  4.93|               4.74|       7510400829623|               f|                             1|                                          1|                                           0|                                          0|              2.2|\n",
      "|https://www.airbn...|20240906025355|  2024-09-10|previous scrape|Sunny apartment w...|We are renting ou...|                  NaN|https://a0.muscac...|  22155|https://www.airbn...|            Anaïs|2009-06-18|Paris, France|Hello ! \\r\\nOur a...|               NaN|               NaN|                  0%|                f|https://a0.muscac...|https://a0.muscac...|Gare du Nord - Ga...|                1.0|                      1.0|           ['phone']|                   t|                     t|                 NaN|                 Opéra|                         NaN|         48.87417|          2.34245|  Entire rental unit|Entire home/apt|           3|      NaN|        1 bath|     2.0| NaN|[\"Room-darkening ...|    NaN|             7|           365|                     7|                     7|                   365|                   365|                   7.0|                 365.0|             NaN|               t|              0|              0|              0|               0|           2024-09-10|                5|                    0|                     0|  2010-05-10| 2015-09-14|                 4.8|                   5.0|                      5.0|                  5.0|                        5.0|                   5.0|                5.0|       7510903576564|               f|                             1|                                          1|                                           0|                                          0|             0.03|\n",
      "|https://www.airbn...|20240906025355|  2024-09-11|    city scrape|Big Cosy Appartem...|Come to stay in o...| The 19th arrondis...|https://a0.muscac...|3342097|https://www.airbn...|            Iryna|2012-08-22|Paris, France|I'm Ukrainian-bou...|               NaN|               NaN|                 NaN|                f|https://a0.muscac...|https://a0.muscac...|          Port-Royal|                1.0|                      2.0|['email', 'phone'...|                   t|                     t|Neighborhood high...|       Buttes-Chaumont|                         NaN|       48.8934638|        2.3783407|  Entire rental unit|Entire home/apt|           6|      1.0|        1 bath|     3.0| 0.0|[\"Outdoor dining ...|$450.00|             5|           120|                     5|                     5|                   120|                   120|                   5.0|                 120.0|             NaN|               t|             23|             53|             83|             173|           2024-09-11|                0|                    0|                     0|         NaN|        NaN|                 NaN|                   NaN|                      NaN|                  NaN|                        NaN|                   NaN|                NaN|       7511913070313|               f|                             1|                                          1|                                           0|                                          0|              NaN|\n",
      "|https://www.airbn...|20240906025355|  2024-09-10|previous scrape|Apart Hotel / Par...|                 NaN|                  NaN|https://a0.muscac...|1275649|https://www.airbn...|          Gwenael|2011-10-11|Paris, France|Bienvenue chez Vo...|a few days or more|                0%|                 NaN|                f|https://a0.muscac...|https://a0.muscac...|        Saint-Lazare|                2.0|                      2.0|  ['email', 'phone']|                   t|                     t|                 NaN|                Élysée|                         NaN|         48.87114|          2.32606|  Entire rental unit|Entire home/apt|           2|      NaN|        1 bath|     1.0| NaN|[\"Kitchen\", \"Elev...|    NaN|           365|           500|                   365|                   365|                  1125|                  1125|                 365.0|                1125.0|             NaN|               t|              0|              0|              0|               0|           2024-09-10|               52|                    0|                     0|  2011-10-30| 2017-01-16|                4.45|                  4.53|                     4.41|                 4.51|                       4.51|                   4.9|               4.59|                 NaN|               f|                             2|                                          2|                                           0|                                          0|             0.33|\n",
      "|https://www.airbn...|20240906025355|  2024-09-10|previous scrape|Charming studio i...|Under the roofs o...| Very quiet neighb...|https://a0.muscac...|1276616|https://www.airbn...|            David|2011-10-11|Paris, France|My name is David ...|               NaN|               NaN|                100%|                f|https://a0.muscac...|https://a0.muscac...|Pigalle - Saint-G...|                2.0|                      2.0|  ['email', 'phone']|                   t|                     t|Neighborhood high...|                 Opéra|                         NaN|         48.88054|          2.33135|  Entire rental unit|Entire home/apt|           2|      NaN|        1 bath|     NaN| NaN|[\"Room-darkening ...|    NaN|             5|            30|                     5|                     5|                  1125|                  1125|                   5.0|                1125.0|             NaN|               t|              0|              0|              0|               0|           2024-09-10|              215|                    0|                     0|  2011-10-19| 2018-04-06|                4.02|                  4.19|                     3.68|                 4.53|                       4.29|                  4.36|               4.22|       7511800698187|               t|                             1|                                          1|                                           0|                                          0|             1.37|\n",
      "|https://www.airbn...|20240906025355|  2024-09-10|previous scrape|Beautifull loft -...|Nice 60m2 loft, v...| The neighborhood ...|https://a0.muscac...|1280100|https://www.airbn...|Olivier  Et Elisa|2011-10-12|Paris, France|Je vis entre Pari...|    within an hour|              100%|                100%|                f|https://a0.muscac...|https://a0.muscac...|Opéra - Grands Bo...|                1.0|                      1.0|  ['email', 'phone']|                   t|                     t|Neighborhood high...|              Entrepôt|                         NaN|        48.873074|         2.350599|  Entire rental unit|Entire home/apt|           2|      NaN|     1.5 baths|     1.0| NaN|[\"Room-darkening ...|    NaN|             5|           365|                     5|                     5|                   365|                   365|                   5.0|                 365.0|             NaN|               t|              0|              0|              0|               0|           2024-09-10|              143|                    0|                     0|  2013-02-18| 2023-08-24|                4.59|                  4.77|                     4.74|                 4.41|                        4.4|                   4.7|               4.65|       7511001069581|               f|                             1|                                          1|                                           0|                                          0|             1.02|\n",
      "|https://www.airbn...|20240906025355|  2024-09-13|    city scrape|Cozy, Central Par...|Location! Locatio...|                  NaN|https://a0.muscac...|  28422|https://www.airbn...|       Bernadette|2009-07-29| New York, NY|I am a Native New...|               NaN|               NaN|                 NaN|                f|https://a0.muscac...|https://a0.muscac...|Châtelet - Les Ha...|                2.0|                      4.0|  ['email', 'phone']|                   t|                     t|                 NaN|                Louvre|                         NaN|         48.86006|          2.34863|  Entire rental unit|Entire home/apt|           1|      1.0|        1 bath|     1.0| 1.0|[\"Wifi\", \"Kitchen...| $75.00|           180|           360|                   180|                   180|                   360|                   360|                 180.0|                 360.0|             NaN|               t|             23|             53|             83|             358|           2024-09-13|                0|                    0|                     0|         NaN|        NaN|                 NaN|                   NaN|                      NaN|                  NaN|                        NaN|                   NaN|                NaN|Available with a ...|               f|                             1|                                          1|                                           0|                                          0|              NaN|\n",
      "|https://www.airbn...|20240906025355|  2024-09-13|    city scrape|Paris petit coin ...|I am a retired la...| Vibrant neighborh...|https://a0.muscac...|  33534|https://www.airbn...|        Elisabeth|2009-08-24|Paris, France|Parisienne retrai...|    within an hour|              100%|                 86%|                f|https://a0.muscac...|https://a0.muscac...|          République|                1.0|                      1.0|  ['email', 'phone']|                   t|                     t|Neighborhood high...|            Popincourt|                         NaN|         48.86373|          2.37093|  Entire rental unit|Entire home/apt|           2|      1.0|        1 bath|     1.0| 1.0|[\"Hot water\", \"St...|$246.00|             4|            31|                     4|                     4|                    31|                    31|                   4.0|                  31.0|             NaN|               t|              5|              7|              7|             183|           2024-09-13|               51|                    3|                     0|  2013-03-19| 2024-05-23|                4.92|                  4.98|                     4.88|                 4.98|                       4.86|                  4.86|                4.9|       7511101582862|               f|                             1|                                          1|                                           0|                                          0|             0.36|\n",
      "|https://www.airbn...|20240906025355|  2024-09-06|    city scrape| Studio 7 Montmartre|Furnished rental ...| Montmartre, the n...|https://a0.muscac...|  37107|https://www.airbn...|          Michael|2009-09-08|Paris, France|Licensed Californ...|within a few hours|              100%|                 73%|                t|https://a0.muscac...|https://a0.muscac...|          Montmartre|                3.0|                      5.0|  ['email', 'phone']|                   t|                     t|Neighborhood high...|     Buttes-Montmartre|                         NaN|           48.887|          2.34531|  Entire rental unit|Entire home/apt|           2|      1.0|        1 bath|     0.0| 4.0|[\"Room-darkening ...| $80.00|            30|           300|                    30|                    30|                   300|                   300|                  30.0|                 300.0|             NaN|               t|              0|              0|              0|             165|           2024-09-06|               54|                    3|                     0|  2009-12-20| 2024-07-15|                4.84|                  4.77|                     4.75|                 4.85|                       4.98|                  4.65|               4.67|Available with a ...|               f|                             3|                                          3|                                           0|                                          0|              0.3|\n",
      "|https://www.airbn...|20240906025355|  2024-09-13|    city scrape|Studio 10 Montmartre|Furnished rental ...| Montmartre, the n...|https://a0.muscac...|  37107|https://www.airbn...|          Michael|2009-09-08|Paris, France|Licensed Californ...|within a few hours|              100%|                 73%|                t|https://a0.muscac...|https://a0.muscac...|          Montmartre|                3.0|                      5.0|  ['email', 'phone']|                   t|                     t|Neighborhood high...|     Buttes-Montmartre|                         NaN|         48.88725|          2.34518|  Entire rental unit|Entire home/apt|           2|      1.0|        1 bath|     NaN| 1.0|[\"Hot water\", \"Wi...| $75.00|            30|           300|                    30|                    30|                   300|                   300|                  30.0|                 300.0|             NaN|               t|              0|              0|              0|             263|           2024-09-13|               23|                    1|                     0|  2011-03-13| 2024-06-09|                 4.9|                   4.9|                     4.86|                  5.0|                        4.9|                  4.67|                4.7|Available with a ...|               f|                             3|                                          3|                                           0|                                          0|             0.14|\n",
      "|https://www.airbn...|20240906025355|  2024-09-10|previous scrape|Elegant appartmen...|Located in lively...| The apartment is ...|https://a0.muscac...|  41718|https://www.airbn...|           Sylvie|2009-09-28|Paris, France|I usually live in...|within a few hours|              100%|                100%|                f|https://a0.muscac...|https://a0.muscac...|          Montmartre|                1.0|                      1.0|  ['email', 'phone']|                   t|                     t|Neighborhood high...|     Buttes-Montmartre|                         NaN|         48.88494|          2.33997|  Entire rental unit|Entire home/apt|           2|      NaN|        1 bath|     1.0| NaN|[\"Cooking basics\"...|    NaN|             7|           120|                     7|                     7|                   120|                   120|                   7.0|                 120.0|             NaN|               t|              4|              4|              4|               5|           2024-09-10|               32|                    5|                     1|  2016-06-12| 2024-08-11|                4.91|                  4.91|                     4.94|                 4.77|                       4.84|                  4.97|                4.9|       7511801401834|               f|                             1|                                          1|                                           0|                                          0|             0.32|\n",
      "|https://www.airbn...|20240906025355|  2024-09-13|    city scrape|Heart of  Paris, ...|Very confortable ...| This studio is in...|https://a0.muscac...|  42666|https://www.airbn...|         Brigitte|2009-10-01|       France|                  ..|      within a day|              100%|                 80%|                t|https://a0.muscac...|https://a0.muscac...|          République|                2.0|                      2.0|  ['email', 'phone']|                   t|                     t|Neighborhood high...|            Popincourt|                         NaN|         48.86441|          2.37139|  Entire rental unit|Entire home/apt|           1|      1.0|        1 bath|     0.0| 1.0|[\"Hot water\", \"Co...| $80.00|            30|           305|                    30|                    30|                   305|                   305|                  30.0|                 305.0|             NaN|               t|              4|              4|             22|             297|           2024-09-13|               12|                    5|                     0|  2012-07-02| 2024-07-01|                4.92|                  4.75|                     4.92|                 4.92|                       4.92|                  4.92|               4.67|Available with a ...|               f|                             2|                                          2|                                           0|                                          0|             0.08|\n",
      "|https://www.airbn...|20240906025355|  2024-09-10|    city scrape|Loft very charmin...|My apartment is l...| I'm right next to...|https://a0.muscac...|  44444|https://www.airbn...|         Laurence|2009-10-08|Paris, France|Very dynamic pers...|               NaN|               NaN|                100%|                f|https://a0.muscac...|https://a0.muscac...|Place d'Italie - ...|                1.0|                      1.0|  ['email', 'phone']|                   t|                     t|Neighborhood high...|              Gobelins|                         NaN|48.82524108886719|2.367469072341919|         Entire loft|Entire home/apt|           2|      1.0|        1 bath|     1.0| 1.0|[\"Cooking basics\"...|$124.00|             3|          1125|                     4|                     4|                  1125|                  1125|                   4.0|                1125.0|             NaN|               t|             29|             59|             89|             357|           2024-09-10|              121|                    4|                     0|  2012-09-21| 2023-10-21|                4.84|                  4.92|                      4.8|                 4.94|                       4.95|                  4.83|               4.77|       7511300241931|               f|                             1|                                          1|                                           0|                                          0|             0.83|\n",
      "|https://www.airbn...|20240906025355|  2024-09-10|previous scrape|Faubourg Saint An...|                 NaN|                  NaN|https://a0.muscac...|  47196|https://www.airbn...|          Charles|2009-10-20|Paris, France|Charles, living i...|               NaN|               NaN|                 NaN|                f|https://a0.muscac...|https://a0.muscac...|   XI Arrondissement|                1.0|                      3.0|  ['email', 'phone']|                   t|                     f|                 NaN|            Popincourt|                         NaN|         48.85186|           2.3857|Private room in r...|   Private room|           2|      NaN|        1 bath|     NaN| NaN|[\"Dryer\", \"Kitche...|    NaN|             6|            40|                     6|                     6|                    40|                    40|                   6.0|                  40.0|             NaN|             NaN|              0|              0|              0|               0|           2024-09-10|                1|                    0|                     0|  2010-05-28| 2010-05-28|                 0.0|                   NaN|                      NaN|                  NaN|                        NaN|                   NaN|                NaN|                 NaN|               f|                             1|                                          0|                                           1|                                          0|             0.01|\n",
      "|https://www.airbn...|20240906025355|  2024-09-13|    city scrape|      Voltaire Charm|You will spend a ...| ﻿<br />The apartm...|https://a0.muscac...|  48733|https://www.airbn...|            Irene|2009-10-28|Paris, France|Chers futurs gues...|    within an hour|              100%|                 78%|                f|https://a0.muscac...|https://a0.muscac...|   XI Arrondissement|                1.0|                      3.0|           ['phone']|                   t|                     t|Neighborhood high...|            Popincourt|                         NaN|         48.86159|          2.37952|  Entire rental unit|Entire home/apt|           4|      1.0|        1 bath|     2.0| 2.0|[\"Oven\", \"Dishes ...|$208.00|             1|            45|                     1|                     3|                  1125|                  1125|                   2.4|                1125.0|             NaN|               t|              2|             10|             40|              84|           2024-09-13|               62|                    3|                     0|  2018-05-01| 2024-07-08|                4.82|                  4.84|                     4.85|                 4.84|                       4.87|                  4.81|               4.65|       7511102600669|               t|                             1|                                          1|                                           0|                                          0|              0.8|\n",
      "|https://www.airbn...|20240906025355|  2024-09-13|    city scrape|Bird's nest in Mo...|Apartment, two ro...| So many bars, res...|https://a0.muscac...| 464019|https://www.airbn...|            Laure|2011-03-26|Paris, France|International gir...|within a few hours|              100%|                 56%|                f|https://a0.muscac...|https://a0.muscac...|          Montmartre|                1.0|                      1.0|  ['email', 'phone']|                   t|                     t|Neighborhood high...|     Buttes-Montmartre|                         NaN|         48.88238|          2.33831|  Entire rental unit|Entire home/apt|           3|      1.5|     1.5 baths|     1.0| 1.0|[\"Hot water\", \"Co...|$130.00|             3|            60|                     3|                     3|                    60|                    60|                   3.0|                  60.0|             NaN|               t|              0|              0|              0|              12|           2024-09-13|              133|                    4|                     0|  2011-05-03| 2024-08-13|                4.88|                  4.89|                     4.87|                 4.87|                       4.91|                  4.91|               4.79|       7511801291867|               f|                             1|                                          1|                                           0|                                          0|             0.82|\n",
      "|https://www.airbn...|20240906025355|  2024-09-13|    city scrape|Charmful flat fac...|Amazing apartment...| The flat is situa...|https://a0.muscac...| 296615|https://www.airbn...|          Richard|2010-11-23|Paris, France|Bonjour!\\nI am an...|    within an hour|              100%|                 92%|                t|https://a0.muscac...|https://a0.muscac...|  Louvre - Tuileries|                1.0|                      1.0|['email', 'phone'...|                   t|                     t|Neighborhood high...|                Louvre|                         NaN|         48.86033|          2.34005|  Entire rental unit|Entire home/apt|           4|      1.0|        1 bath|     1.0| 2.0|[\"Hot water\", \"St...|$306.00|             3|           120|                     2|                     3|                   120|                   120|                   3.0|                 120.0|             NaN|               t|             10|             34|             64|             339|           2024-09-13|              216|                   15|                     0|  2011-11-12| 2024-08-07|                4.88|                  4.89|                     4.78|                 4.95|                       4.96|                  4.99|               4.88|       7510100912155|               f|                             1|                                          1|                                           0|                                          0|             1.38|\n",
      "|https://www.airbn...|20240906025355|  2024-09-10|previous scrape|Romantic Flat on ...|In Parisian Paris...| The Butte Aux Cai...|https://a0.muscac...| 492966|https://www.airbn...|            April|2011-04-08|Paris, France|Originally from N...|               NaN|               NaN|                 NaN|                f|https://a0.muscac...|https://a0.muscac...|Place d'Italie - ...|                1.0|                      1.0|  ['email', 'phone']|                   t|                     t|Neighborhood high...|              Gobelins|                         NaN|         48.83052|          2.35193|  Entire rental unit|Entire home/apt|           2|      NaN|     1.5 baths|     1.0| NaN|[\"Cooking basics\"...|    NaN|           365|           365|                   365|                   365|                   365|                   365|                 365.0|                 365.0|             NaN|               t|             29|             59|             89|             364|           2024-09-10|               14|                    0|                     0|  2012-08-25| 2018-08-04|                4.67|                  4.93|                     4.79|                 4.71|                       4.57|                  4.64|               4.43|                 NaN|               f|                             1|                                          1|                                           0|                                          0|              0.1|\n",
      "+--------------------+--------------+------------+---------------+--------------------+--------------------+---------------------+--------------------+-------+--------------------+-----------------+----------+-------------+--------------------+------------------+------------------+--------------------+-----------------+--------------------+--------------------+--------------------+-------------------+-------------------------+--------------------+--------------------+----------------------+--------------------+----------------------+----------------------------+-----------------+-----------------+--------------------+---------------+------------+---------+--------------+--------+----+--------------------+-------+--------------+--------------+----------------------+----------------------+----------------------+----------------------+----------------------+----------------------+----------------+----------------+---------------+---------------+---------------+----------------+---------------------+-----------------+---------------------+----------------------+------------+-----------+--------------------+----------------------+-------------------------+---------------------+---------------------------+----------------------+-------------------+--------------------+----------------+------------------------------+-------------------------------------------+--------------------------------------------+-------------------------------------------+-----------------+\n",
      "only showing top 20 rows\n",
      "\n"
     ]
    }
   ],
   "source": [
    "listings_df.show()"
   ]
  },
  {
   "cell_type": "markdown",
   "metadata": {},
   "source": [
    "## Craete table \"paris\" in Postgres"
   ]
  },
  {
   "cell_type": "code",
   "execution_count": 7,
   "metadata": {},
   "outputs": [
    {
     "name": "stderr",
     "output_type": "stream",
     "text": [
      "24/11/05 16:02:33 WARN TaskSetManager: Stage 1 contains a task of very large size (41281 KiB). The maximum recommended task size is 1000 KiB.\n",
      "                                                                                \r"
     ]
    }
   ],
   "source": [
    "p_url = \"jdbc:postgresql://localhost:5445/postgres\"\n",
    "\n",
    "properties = {\n",
    "    \"user\": \"postgres\",\n",
    "    \"password\": \"1234\",\n",
    "    \"driver\": \"org.postgresql.Driver\"\n",
    "}\n",
    "\n",
    "listings_df.write \\\n",
    "    .format(\"jdbc\") \\\n",
    "    .option(\"url\", p_url) \\\n",
    "    .option(\"dbtable\", \"paris\") \\\n",
    "    .option(\"user\", properties[\"user\"]) \\\n",
    "    .option(\"password\", properties[\"password\"]) \\\n",
    "    .option(\"driver\", properties[\"driver\"]) \\\n",
    "    .mode(\"append\") \\\n",
    "    .save()"
   ]
  },
  {
   "cell_type": "markdown",
   "metadata": {},
   "source": [
    "## Check that the table exists"
   ]
  },
  {
   "cell_type": "code",
   "execution_count": 9,
   "metadata": {},
   "outputs": [
    {
     "name": "stdout",
     "output_type": "stream",
     "text": [
      "('https://www.airbnb.com/rooms/32604779', 20240906025355, '2024-09-06', 'previous scrape', 'Appartement de standing avec double salon', 'Apartment of 84 m2 very bright located on the 8th floor consisting of a double living-room. Living room of 50m2 crossing with 2 large balconies on the living room side and bedroom/kitchen side.<br />Luxury building with concierge.<br />Bathroom renovated in 2019. Room adjoining the bathroom. Separate toilet, clothes dryer.<br />Ideally located 5 minutes from the Eiffel Tower and Mars fields.<br />Nearby transport: metro, RER, bus (69, 42, 82, 87), Air France bus.<br />Many nearby shops and restaurants.', 'NaN', 'https://a0.muscache.com/pictures/33e3c3c6-2069-4556-aa96-f4f12fff2b0f.jpg', 245091812, 'https://www.airbnb.com/users/show/245091812', 'Françoise Bernard', '2019-02-24', 'NaN', 'NaN', 'NaN', 'NaN', 'NaN', 'f', 'https://a0.muscache.com/im/pictures/user/6c9f1137-99ab-461b-8819-38646d9db54f.jpg?aki_policy=profile_small', 'https://a0.muscache.com/im/pictures/user/6c9f1137-99ab-461b-8819-38646d9db54f.jpg?aki_policy=profile_x_medium', 'Tour Eiffel - Champ de Mars', 1.0, 1.0, \"['email', 'phone']\", 't', 't', 'NaN', 'Vaugirard', nan, 48.85418, 2.29274, 'Entire condo', 'Entire home/apt', 3, nan, '1.5 baths', 1.0, nan, '[\"Ethernet connection\", \"Heating\", \"Refrigerator\", \"TV\", \"Microwave\", \"Shampoo\", \"Smoke alarm\", \"Bed linens\", \"Hot water\", \"Kitchen\", \"Hangers\", \"Smoking allowed\", \"Hair dryer\", \"Extra pillows and blankets\", \"Essentials\", \"Elevator\", \"Dishwasher\", \"Cooking basics\", \"Oven\", \"Iron\", \"Dedicated workspace\", \"Private patio or balcony\", \"Washer\", \"Coffee maker\", \"Wifi\", \"Stove\", \"Dishes and silverware\"]', 'NaN', 2, 1125, 2, 2, 1125, 1125, 2.0, 1125.0, nan, 't', 0, 0, 0, 0, '2024-09-06', 3, 0, 0, '2019-07-16', '2020-01-02', 5.0, 5.0, 5.0, 5.0, 5.0, 5.0, 4.67, '7511503105256', 'f', 1, 1, 0, 0, 0.05)\n"
     ]
    }
   ],
   "source": [
    "connection = psycopg2.connect(\n",
    "    dbname=\"postgres\",\n",
    "    user=\"postgres\",\n",
    "    password=\"1234\",\n",
    "    host=\"localhost\",\n",
    "    port=\"5445\"\n",
    ")\n",
    "\n",
    "cursor = connection.cursor()\n",
    "\n",
    "cursor.execute(\n",
    "    \"\"\"\n",
    "    SELECT *\n",
    "    FROM \"public\".\"paris\"\n",
    "    LIMIT 1\n",
    "    \"\"\"\n",
    ")\n",
    "\n",
    "exists = cursor.fetchone()\n",
    "\n",
    "print(exists)\n",
    "\n",
    "cursor.close()\n",
    "connection.close()\n",
    "\n",
    "del cursor\n",
    "del connection"
   ]
  },
  {
   "cell_type": "code",
   "execution_count": 12,
   "metadata": {},
   "outputs": [
    {
     "data": {
      "text/plain": [
       "['listing_url',\n",
       " 'scrape_id',\n",
       " 'last_scraped',\n",
       " 'source',\n",
       " 'name',\n",
       " 'description',\n",
       " 'neighborhood_overview',\n",
       " 'picture_url',\n",
       " 'host_id',\n",
       " 'host_url',\n",
       " 'host_name',\n",
       " 'host_since',\n",
       " 'host_location',\n",
       " 'host_about',\n",
       " 'host_response_time',\n",
       " 'host_response_rate',\n",
       " 'host_acceptance_rate',\n",
       " 'host_is_superhost',\n",
       " 'host_thumbnail_url',\n",
       " 'host_picture_url',\n",
       " 'host_neighbourhood',\n",
       " 'host_listings_count',\n",
       " 'host_total_listings_count',\n",
       " 'host_verifications',\n",
       " 'host_has_profile_pic',\n",
       " 'host_identity_verified',\n",
       " 'neighbourhood',\n",
       " 'neighbourhood_cleansed',\n",
       " 'neighbourhood_group_cleansed',\n",
       " 'latitude',\n",
       " 'longitude',\n",
       " 'property_type',\n",
       " 'room_type',\n",
       " 'accommodates',\n",
       " 'bathrooms',\n",
       " 'bathrooms_text',\n",
       " 'bedrooms',\n",
       " 'beds',\n",
       " 'amenities',\n",
       " 'price',\n",
       " 'minimum_nights',\n",
       " 'maximum_nights',\n",
       " 'minimum_minimum_nights',\n",
       " 'maximum_minimum_nights',\n",
       " 'minimum_maximum_nights',\n",
       " 'maximum_maximum_nights',\n",
       " 'minimum_nights_avg_ntm',\n",
       " 'maximum_nights_avg_ntm',\n",
       " 'calendar_updated',\n",
       " 'has_availability',\n",
       " 'availability_30',\n",
       " 'availability_60',\n",
       " 'availability_90',\n",
       " 'availability_365',\n",
       " 'calendar_last_scraped',\n",
       " 'number_of_reviews',\n",
       " 'number_of_reviews_ltm',\n",
       " 'number_of_reviews_l30d',\n",
       " 'first_review',\n",
       " 'last_review',\n",
       " 'review_scores_rating',\n",
       " 'review_scores_accuracy',\n",
       " 'review_scores_cleanliness',\n",
       " 'review_scores_checkin',\n",
       " 'review_scores_communication',\n",
       " 'review_scores_location',\n",
       " 'review_scores_value',\n",
       " 'license',\n",
       " 'instant_bookable',\n",
       " 'calculated_host_listings_count',\n",
       " 'calculated_host_listings_count_entire_homes',\n",
       " 'calculated_host_listings_count_private_rooms',\n",
       " 'calculated_host_listings_count_shared_rooms',\n",
       " 'reviews_per_month']"
      ]
     },
     "execution_count": 12,
     "metadata": {},
     "output_type": "execute_result"
    }
   ],
   "source": [
    "listings_df.columns"
   ]
  },
  {
   "cell_type": "code",
   "execution_count": 16,
   "metadata": {},
   "outputs": [
    {
     "name": "stderr",
     "output_type": "stream",
     "text": [
      "24/11/05 16:09:53 WARN TaskSetManager: Stage 13 contains a task of very large size (41281 KiB). The maximum recommended task size is 1000 KiB.\n",
      "[Stage 13:>                                                         (0 + 1) / 1]\r"
     ]
    },
    {
     "name": "stdout",
     "output_type": "stream",
     "text": [
      "+-------+----------+-----------------+-----------------+-----------------+------------------+---------------+------------+---------+--------------+--------+----+--------------------+---------+--------------+--------------+-----------------+--------------------+--------------------+----------------+-----------------+\n",
      "|host_id|host_since|host_is_superhost|         latitude|        longitude|     property_type|      room_type|accommodates|bathrooms|bathrooms_text|bedrooms|beds|           amenities|    price|minimum_nights|maximum_nights|number_of_reviews|review_scores_rating|             license|instant_bookable|reviews_per_month|\n",
      "+-------+----------+-----------------+-----------------+-----------------+------------------+---------------+------------+---------+--------------+--------+----+--------------------+---------+--------------+--------------+-----------------+--------------------+--------------------+----------------+-----------------+\n",
      "|   3631|2008-10-14|                f|         48.83191|           2.3187|Entire rental unit|Entire home/apt|           2|      1.0|        1 bath|     1.0| 1.0|[\"Cooking basics\"...|  $113.00|             2|            30|                4|                 5.0|       7511409139079|               t|             0.05|\n",
      "|   7903|2009-02-14|              NaN|         48.85247|          2.35835|Entire rental unit|Entire home/apt|           2|      1.0|        1 bath|     0.0| 1.0|[\"Hot water\", \"St...|   $95.00|             2|           730|              413|                4.61|       7510402838018|               f|             2.23|\n",
      "|   2626|2008-08-30|                t|         48.85909|          2.35315|Entire rental unit|Entire home/apt|           4|      1.0|        1 bath|     2.0| 1.0|[\"Host greets you...|  $145.00|            10|           130|              360|                4.73|       7510400829623|               f|              2.2|\n",
      "|  33534|2009-08-24|                f|         48.86373|          2.37093|Entire rental unit|Entire home/apt|           2|      1.0|        1 bath|     1.0| 1.0|[\"Hot water\", \"St...|  $246.00|             4|            31|               51|                4.92|       7511101582862|               f|             0.36|\n",
      "|  37107|2009-09-08|                t|           48.887|          2.34531|Entire rental unit|Entire home/apt|           2|      1.0|        1 bath|     0.0| 4.0|[\"Room-darkening ...|   $80.00|            30|           300|               54|                4.84|Available with a ...|               f|              0.3|\n",
      "|  42666|2009-10-01|                t|         48.86441|          2.37139|Entire rental unit|Entire home/apt|           1|      1.0|        1 bath|     0.0| 1.0|[\"Hot water\", \"Co...|   $80.00|            30|           305|               12|                4.92|Available with a ...|               f|             0.08|\n",
      "|  44444|2009-10-08|                f|48.82524108886719|2.367469072341919|       Entire loft|Entire home/apt|           2|      1.0|        1 bath|     1.0| 1.0|[\"Cooking basics\"...|  $124.00|             3|          1125|              121|                4.84|       7511300241931|               f|             0.83|\n",
      "|  48733|2009-10-28|                f|         48.86159|          2.37952|Entire rental unit|Entire home/apt|           4|      1.0|        1 bath|     2.0| 2.0|[\"Oven\", \"Dishes ...|  $208.00|             1|            45|               62|                4.82|       7511102600669|               t|              0.8|\n",
      "| 464019|2011-03-26|                f|         48.88238|          2.33831|Entire rental unit|Entire home/apt|           3|      1.5|     1.5 baths|     1.0| 1.0|[\"Hot water\", \"Co...|  $130.00|             3|            60|              133|                4.88|       7511801291867|               f|             0.82|\n",
      "| 296615|2010-11-23|                t|         48.86033|          2.34005|Entire rental unit|Entire home/apt|           4|      1.0|        1 bath|     1.0| 2.0|[\"Hot water\", \"St...|  $306.00|             3|           120|              216|                4.88|       7510100912155|               f|             1.38|\n",
      "| 500672|2011-04-11|                f|         48.86706|          2.34726|Entire rental unit|Entire home/apt|           4|      1.0|        1 bath|     1.0| 2.0|[\"Arcade games\", ...|  $222.00|             3|           300|              382|                4.77|       7510201768302|               f|             2.35|\n",
      "| 276063|2010-11-01|                t|         48.83572|          2.33054|       Entire loft|Entire home/apt|           4|      1.0|        1 bath|     2.0| 3.0|[\"Cooking basics\"...|  $159.00|            30|           365|               30|                4.72|Available with a ...|               f|             0.18|\n",
      "| 505518|2011-04-13|                f|         48.86501|          2.39532|Entire rental unit|Entire home/apt|           2|      1.0|        1 bath|     1.0| 1.0|[\"Host greets you...|   $55.00|             7|           150|               12|                 5.0|       7512002915374|               f|             0.08|\n",
      "|  97702|2010-03-23|                f|         48.85484|           2.3897|Entire rental unit|Entire home/apt|           2|      1.0|        1 bath|     1.0| 1.0|[\"Bathtub\", \"Wifi...|  $160.00|             3|            90|               29|                4.93|       7511102371532|               f|             0.18|\n",
      "|1275649|2011-10-11|                f|         48.86534|          2.29942|Entire rental unit|Entire home/apt|           2|      1.0|        1 bath|     1.0| 1.0|[\"Elevator\", \"Lon...|$7,000.00|           365|           572|               33|                4.52|                 NaN|               f|             0.27|\n",
      "|1298369|2011-10-16|                f|         48.86918|          2.36945|Entire rental unit|Entire home/apt|           2|      1.0|        1 bath|     1.0| 1.0|[\"Hot water\", \"St...|   $85.00|             4|            30|               59|                4.64|       7511000908938|               f|             0.38|\n",
      "|1298530|2011-10-16|                f|         48.87473|          2.36061|Entire rental unit|Entire home/apt|           2|      1.0|        1 bath|     1.0| 1.0|[\"Hot water\", \"St...|  $140.00|             5|            31|               50|                4.94|       7511002875563|               f|             0.32|\n",
      "| 517155|2011-04-18|                f|         48.85523|          2.37332|       Entire loft|Entire home/apt|           6|      2.5|     2.5 baths|     3.0| 4.0|[\"Hot water\", \"St...|  $344.00|            13|           400|               37|                4.84|       7511105188292|               f|             0.23|\n",
      "| 529347|2011-04-23|                f|  48.853381616253|2.294888842165164|Entire rental unit|Entire home/apt|           2|      1.0|        1 bath|     1.0| 0.0|[\"Wifi\", \"Dishwas...|  $685.00|             5|            45|              132|                4.97|       7511512176934|               f|             0.82|\n",
      "| 532468|2011-04-24|                f|         48.82845|          2.35727|Entire rental unit|Entire home/apt|           1|      1.0|        1 bath|     1.0| 1.0|[\"Host greets you...|  $100.00|           365|           365|               84|                4.66|                 NaN|               f|             0.53|\n",
      "+-------+----------+-----------------+-----------------+-----------------+------------------+---------------+------------+---------+--------------+--------+----+--------------------+---------+--------------+--------------+-----------------+--------------------+--------------------+----------------+-----------------+\n",
      "only showing top 20 rows\n",
      "\n"
     ]
    },
    {
     "name": "stderr",
     "output_type": "stream",
     "text": [
      "24/11/05 16:09:57 WARN PythonRunner: Detected deadlock while completing task 0.0 in stage 13 (TID 117): Attempting to kill Python Worker\n",
      "                                                                                \r"
     ]
    }
   ],
   "source": [
    "columns_to_keep = [\n",
    "    'host_id','host_since','host_is_superhost','latitude','longitude','property_type','room_type','accommodates','bathrooms','bathrooms_text','bedrooms','beds','amenities','price','minimum_nights','maximum_nights', 'number_of_reviews','review_scores_rating','license','instant_bookable','reviews_per_month'\n",
    "]\n",
    "\n",
    "base_df = listings_df.select(columns_to_keep)\n",
    "clean_df = base_df.dropna()\n",
    "clean_df.show()"
   ]
  },
  {
   "cell_type": "code",
   "execution_count": 17,
   "metadata": {},
   "outputs": [
    {
     "name": "stderr",
     "output_type": "stream",
     "text": [
      "24/11/05 16:10:41 WARN TaskSetManager: Stage 14 contains a task of very large size (41281 KiB). The maximum recommended task size is 1000 KiB.\n",
      "[Stage 14:>                                                         (0 + 1) / 1]\r"
     ]
    },
    {
     "name": "stdout",
     "output_type": "stream",
     "text": [
      "+-------+----------+-----------------+-----------------+-----------------+--------------------+---------------+------------+---------+--------------+--------+----+--------------------+-----+--------------+--------------+-----------------+--------------------+--------------------+----------------+-----------------+\n",
      "|host_id|host_since|host_is_superhost|         latitude|        longitude|       property_type|      room_type|accommodates|bathrooms|bathrooms_text|bedrooms|beds|           amenities|price|minimum_nights|maximum_nights|number_of_reviews|review_scores_rating|             license|instant_bookable|reviews_per_month|\n",
      "+-------+----------+-----------------+-----------------+-----------------+--------------------+---------------+------------+---------+--------------+--------+----+--------------------+-----+--------------+--------------+-----------------+--------------------+--------------------+----------------+-----------------+\n",
      "|   3631|2008-10-14|                f|         48.83191|           2.3187|  Entire rental unit|Entire home/apt|           2|      1.0|        1 bath|     1.0| 1.0|[\"Cooking basics\"...|113.0|             2|            30|                4|                 5.0|       7511409139079|               t|             0.05|\n",
      "|   7903|2009-02-14|              NaN|         48.85247|          2.35835|  Entire rental unit|Entire home/apt|           2|      1.0|        1 bath|     0.0| 1.0|[\"Hot water\", \"St...| 95.0|             2|           730|              413|                4.61|       7510402838018|               f|             2.23|\n",
      "|   2626|2008-08-30|                t|         48.85909|          2.35315|  Entire rental unit|Entire home/apt|           4|      1.0|        1 bath|     2.0| 1.0|[\"Host greets you...|145.0|            10|           130|              360|                4.73|       7510400829623|               f|              2.2|\n",
      "|  22155|2009-06-18|                f|         48.87417|          2.34245|  Entire rental unit|Entire home/apt|           3|      NaN|        1 bath|     2.0| NaN|[\"Room-darkening ...|  NaN|             7|           365|                5|                 4.8|       7510903576564|               f|             0.03|\n",
      "|3342097|2012-08-22|                f|       48.8934638|        2.3783407|  Entire rental unit|Entire home/apt|           6|      1.0|        1 bath|     3.0| 0.0|[\"Outdoor dining ...|450.0|             5|           120|                0|                 NaN|       7511913070313|               f|              NaN|\n",
      "|1275649|2011-10-11|                f|         48.87114|          2.32606|  Entire rental unit|Entire home/apt|           2|      NaN|        1 bath|     1.0| NaN|[\"Kitchen\", \"Elev...|  NaN|           365|           500|               52|                4.45|                 NaN|               f|             0.33|\n",
      "|1276616|2011-10-11|                f|         48.88054|          2.33135|  Entire rental unit|Entire home/apt|           2|      NaN|        1 bath|     NaN| NaN|[\"Room-darkening ...|  NaN|             5|            30|              215|                4.02|       7511800698187|               t|             1.37|\n",
      "|1280100|2011-10-12|                f|        48.873074|         2.350599|  Entire rental unit|Entire home/apt|           2|      NaN|     1.5 baths|     1.0| NaN|[\"Room-darkening ...|  NaN|             5|           365|              143|                4.59|       7511001069581|               f|             1.02|\n",
      "|  28422|2009-07-29|                f|         48.86006|          2.34863|  Entire rental unit|Entire home/apt|           1|      1.0|        1 bath|     1.0| 1.0|[\"Wifi\", \"Kitchen...| 75.0|           180|           360|                0|                 NaN|Available with a ...|               f|              NaN|\n",
      "|  33534|2009-08-24|                f|         48.86373|          2.37093|  Entire rental unit|Entire home/apt|           2|      1.0|        1 bath|     1.0| 1.0|[\"Hot water\", \"St...|246.0|             4|            31|               51|                4.92|       7511101582862|               f|             0.36|\n",
      "|  37107|2009-09-08|                t|           48.887|          2.34531|  Entire rental unit|Entire home/apt|           2|      1.0|        1 bath|     0.0| 4.0|[\"Room-darkening ...| 80.0|            30|           300|               54|                4.84|Available with a ...|               f|              0.3|\n",
      "|  37107|2009-09-08|                t|         48.88725|          2.34518|  Entire rental unit|Entire home/apt|           2|      1.0|        1 bath|     NaN| 1.0|[\"Hot water\", \"Wi...| 75.0|            30|           300|               23|                 4.9|Available with a ...|               f|             0.14|\n",
      "|  41718|2009-09-28|                f|         48.88494|          2.33997|  Entire rental unit|Entire home/apt|           2|      NaN|        1 bath|     1.0| NaN|[\"Cooking basics\"...|  NaN|             7|           120|               32|                4.91|       7511801401834|               f|             0.32|\n",
      "|  42666|2009-10-01|                t|         48.86441|          2.37139|  Entire rental unit|Entire home/apt|           1|      1.0|        1 bath|     0.0| 1.0|[\"Hot water\", \"Co...| 80.0|            30|           305|               12|                4.92|Available with a ...|               f|             0.08|\n",
      "|  44444|2009-10-08|                f|48.82524108886719|2.367469072341919|         Entire loft|Entire home/apt|           2|      1.0|        1 bath|     1.0| 1.0|[\"Cooking basics\"...|124.0|             3|          1125|              121|                4.84|       7511300241931|               f|             0.83|\n",
      "|  47196|2009-10-20|                f|         48.85186|           2.3857|Private room in r...|   Private room|           2|      NaN|        1 bath|     NaN| NaN|[\"Dryer\", \"Kitche...|  NaN|             6|            40|                1|                 0.0|                 NaN|               f|             0.01|\n",
      "|  48733|2009-10-28|                f|         48.86159|          2.37952|  Entire rental unit|Entire home/apt|           4|      1.0|        1 bath|     2.0| 2.0|[\"Oven\", \"Dishes ...|208.0|             1|            45|               62|                4.82|       7511102600669|               t|              0.8|\n",
      "| 464019|2011-03-26|                f|         48.88238|          2.33831|  Entire rental unit|Entire home/apt|           3|      1.5|     1.5 baths|     1.0| 1.0|[\"Hot water\", \"Co...|130.0|             3|            60|              133|                4.88|       7511801291867|               f|             0.82|\n",
      "| 296615|2010-11-23|                t|         48.86033|          2.34005|  Entire rental unit|Entire home/apt|           4|      1.0|        1 bath|     1.0| 2.0|[\"Hot water\", \"St...|306.0|             3|           120|              216|                4.88|       7510100912155|               f|             1.38|\n",
      "| 492966|2011-04-08|                f|         48.83052|          2.35193|  Entire rental unit|Entire home/apt|           2|      NaN|     1.5 baths|     1.0| NaN|[\"Cooking basics\"...|  NaN|           365|           365|               14|                4.67|                 NaN|               f|              0.1|\n",
      "+-------+----------+-----------------+-----------------+-----------------+--------------------+---------------+------------+---------+--------------+--------+----+--------------------+-----+--------------+--------------+-----------------+--------------------+--------------------+----------------+-----------------+\n",
      "only showing top 20 rows\n",
      "\n"
     ]
    },
    {
     "name": "stderr",
     "output_type": "stream",
     "text": [
      "24/11/05 16:10:45 WARN PythonRunner: Detected deadlock while completing task 0.0 in stage 14 (TID 118): Attempting to kill Python Worker\n",
      "                                                                                \r"
     ]
    }
   ],
   "source": [
    "from pyspark.sql.functions import col, translate\n",
    "\n",
    "fixed_price_df = base_df.withColumn(\"price\", translate(col(\"price\"), \"$,\", \"\").cast(\"float\"))\n",
    "\n",
    "fixed_price_df.show()"
   ]
  },
  {
   "cell_type": "code",
   "execution_count": 20,
   "metadata": {},
   "outputs": [
    {
     "name": "stderr",
     "output_type": "stream",
     "text": [
      "24/11/05 16:12:22 WARN TaskSetManager: Stage 24 contains a task of very large size (41281 KiB). The maximum recommended task size is 1000 KiB.\n"
     ]
    },
    {
     "name": "stdout",
     "output_type": "stream",
     "text": [
      "+---------+----------+-----------------+-----------------+------------------+--------------------+---------------+------------+---------+--------------+--------+----+--------------------+-----+--------------+--------------+-----------------+--------------------+--------------------+----------------+-----------------+\n",
      "|  host_id|host_since|host_is_superhost|         latitude|         longitude|       property_type|      room_type|accommodates|bathrooms|bathrooms_text|bedrooms|beds|           amenities|price|minimum_nights|maximum_nights|number_of_reviews|review_scores_rating|             license|instant_bookable|reviews_per_month|\n",
      "+---------+----------+-----------------+-----------------+------------------+--------------------+---------------+------------+---------+--------------+--------+----+--------------------+-----+--------------+--------------+-----------------+--------------------+--------------------+----------------+-----------------+\n",
      "| 13132777|2014-03-14|                f|         48.86841|           2.28208|Private room in r...|   Private room|           2|      1.0|1 private bath|     1.0| 1.0|[\"Cooking basics\"...|116.0|             1|            33|              210|                4.71|       7511601083570|               f|             2.33|\n",
      "| 10363596|2013-12-01|                f|         48.88345|           2.37549|  Entire rental unit|Entire home/apt|           3|      1.0|        1 bath|     2.0| 2.0|[\"Hot water\", \"St...|140.0|             3|          1125|               55|                4.84|       7511902559075|               f|             0.42|\n",
      "| 20928710|2014-09-04|                f|         48.86311|           2.37371|  Entire rental unit|Entire home/apt|           3|      1.0|        1 bath|     1.0| 1.0|[\"Wifi\", \"TV with...|100.0|           365|          1125|                5|                 5.0|                 NaN|               f|             0.04|\n",
      "| 33359914|2015-05-14|                f|         48.84233|           2.26518|  Entire rental unit|Entire home/apt|           2|      1.0|        1 bath|     0.0| 1.0|[\"Hot water\", \"Co...| 80.0|            30|           365|               25|                4.56|Available with a ...|               f|             0.27|\n",
      "| 55001436|2016-01-17|                t|48.87615072833637|2.3044798190763043|  Entire rental unit|Entire home/apt|           2|      1.0|        1 bath|     0.0| 1.0|[\"Cooking basics\"...|200.0|             3|           365|               16|                4.88|       7510808269908|               f|             1.35|\n",
      "|  5001673|2013-02-07|                t|         48.88455|           2.34053|    Entire townhouse|Entire home/apt|           2|      1.5|     1.5 baths|     1.0| 0.0|[\"Hot water\", \"Wi...| 78.0|             3|          1125|              297|                4.77|       7511800080060|               f|             2.61|\n",
      "| 10467377|2013-12-06|              NaN|         48.86802|           2.30585|  Entire rental unit|Entire home/apt|           4|      2.0|       2 baths|     2.0| 2.0|[\"Cooking basics\"...|324.0|            90|          1125|                5|                 4.6|Available with a ...|               f|             0.06|\n",
      "| 35485001|2015-06-10|                f|         48.85265|           2.35658|  Entire rental unit|Entire home/apt|           5|      3.0|       3 baths|     3.0| 4.0|[\"Hot water\", \"Co...|300.0|             7|           730|               26|                4.92|       7510400758654|               f|             0.25|\n",
      "|  7642792|2013-07-22|                t|         48.86093|           2.35737|  Entire rental unit|Entire home/apt|           5|      2.0|       2 baths|     2.0| 3.0|[\"Wifi\", \"Cooking...|179.0|            91|          1125|                4|                 4.5|       7510301016524|               f|             0.04|\n",
      "| 13919070|2014-04-05|                f|         48.82712|           2.33098|Private room in r...|   Private room|           1|      1.0| 1 shared bath|     1.0| 1.0|[\"Kitchen\", \"Elev...| 50.0|             1|          1125|               26|                4.88|                 NaN|               f|             0.29|\n",
      "| 99931830|2016-10-16|                f|         48.88765|           2.37989|  Entire rental unit|Entire home/apt|           2|      1.0|        1 bath|     1.0| 1.0|[\"Hot water\", \"St...| 63.0|             1|          1125|              234|                4.61|       7511900870087|               f|             2.46|\n",
      "|  3171367|2012-08-06|                t|          48.8607|           2.30772|  Entire rental unit|Entire home/apt|           2|      1.0|        1 bath|     1.0| 1.0|[\"Room-darkening ...|200.0|             2|          1125|               73|                4.86|       7510702144780|               f|              0.9|\n",
      "|  5608484|2013-03-24|                t|48.88731002807617|2.3212039470672607|  Entire rental unit|Entire home/apt|           6|      2.5|     2.5 baths|     3.0| 3.0|[\"Hot water\", \"Fi...|425.0|             3|             7|              148|                4.84|       7511700351093|               f|             1.64|\n",
      "|117297906|2017-02-20|                f|          48.8855|           2.33716|Room in boutique ...|     Hotel room|           2|      1.0|        1 bath|     1.0| 1.0|[\"Shampoo\", \"Iron...|500.0|             1|            25|               24|                4.54|Exempt - hotel-ty...|               t|              0.3|\n",
      "| 31132051|2015-04-13|                f|         48.87597|           2.35267|  Entire rental unit|Entire home/apt|           2|      1.0|        1 bath|     1.0| 1.0|[\"Hot water\", \"Ov...|130.0|             7|            31|               10|                 4.7|       7511007657663|               f|             0.09|\n",
      "|  1281575|2011-10-12|                f|48.87105280538783|2.3625115441659923|  Entire rental unit|Entire home/apt|           2|      1.0|        1 bath|     1.0| 1.0|[\"Coffee maker\", ...|140.0|             3|            30|              158|                4.81|       7511003067385|               t|             1.06|\n",
      "| 72397417|2016-05-16|                t|          48.8657|           2.35047|  Entire rental unit|Entire home/apt|           4|      1.0|        1 bath|     1.0| 3.0|[\"Cooking basics\"...|200.0|             2|            30|               12|                4.92|       7510211400994|               f|             1.61|\n",
      "| 35698627|2015-06-13|                f|          48.8794|           2.32824|  Entire rental unit|Entire home/apt|           1|      1.0|        1 bath|     1.0| 1.0|[\"Room-darkening ...| 36.0|           150|           300|                5|                 4.0|Available with a ...|               f|             0.08|\n",
      "|  2526137|2012-06-02|              NaN|         48.86334|           2.35045|  Entire rental unit|Entire home/apt|           6|      1.0|        1 bath|     1.0| 3.0|[\"Free dryer \\u20...|214.0|             2|            90|              481|                4.75|       7510201036545|               t|              4.6|\n",
      "| 21031735|2014-09-07|                f|         48.84015|           2.26161|  Entire rental unit|Entire home/apt|           6|      3.0|       3 baths|     3.0| 7.0|[\"Host greets you...|359.0|             3|            28|               27|                4.48|       7511604873401|               f|             0.38|\n",
      "+---------+----------+-----------------+-----------------+------------------+--------------------+---------------+------------+---------+--------------+--------+----+--------------------+-----+--------------+--------------+-----------------+--------------------+--------------------+----------------+-----------------+\n",
      "only showing top 20 rows\n",
      "\n"
     ]
    },
    {
     "name": "stderr",
     "output_type": "stream",
     "text": [
      "                                                                                \r"
     ]
    }
   ],
   "source": [
    "clean_df = fixed_price_df.dropna()\n",
    "clean_df.show()"
   ]
  },
  {
   "cell_type": "code",
   "execution_count": 21,
   "metadata": {},
   "outputs": [
    {
     "name": "stderr",
     "output_type": "stream",
     "text": [
      "24/11/05 16:12:36 WARN TaskSetManager: Stage 27 contains a task of very large size (41281 KiB). The maximum recommended task size is 1000 KiB.\n"
     ]
    },
    {
     "name": "stdout",
     "output_type": "stream",
     "text": [
      "+-------+-----------------+\n",
      "|summary|            price|\n",
      "+-------+-----------------+\n",
      "|  count|            45916|\n",
      "|   mean|212.8508363097831|\n",
      "| stddev|404.3842515189901|\n",
      "|    min|              8.0|\n",
      "|    max|          24200.0|\n",
      "+-------+-----------------+\n",
      "\n"
     ]
    }
   ],
   "source": [
    "clean_df = clean_df.repartition(100) \n",
    "clean_df.select(\"price\").describe().show()"
   ]
  },
  {
   "cell_type": "code",
   "execution_count": 22,
   "metadata": {},
   "outputs": [
    {
     "name": "stderr",
     "output_type": "stream",
     "text": [
      "24/11/05 16:13:23 WARN TaskSetManager: Stage 33 contains a task of very large size (41281 KiB). The maximum recommended task size is 1000 KiB.\n"
     ]
    },
    {
     "name": "stdout",
     "output_type": "stream",
     "text": [
      "+--------------+-----+\n",
      "|minimum_nights|count|\n",
      "+--------------+-----+\n",
      "|             2|12533|\n",
      "|             1|11501|\n",
      "|             3|10124|\n",
      "|             4| 3309|\n",
      "|            30| 2857|\n",
      "|             5| 2272|\n",
      "|             7|  831|\n",
      "|             6|  647|\n",
      "|           365|  444|\n",
      "|            90|  292|\n",
      "|            31|  235|\n",
      "|            10|  150|\n",
      "|             8|   81|\n",
      "|            91|   72|\n",
      "|            14|   71|\n",
      "|            15|   70|\n",
      "|            60|   62|\n",
      "|            28|   47|\n",
      "|            20|   45|\n",
      "|            12|   26|\n",
      "+--------------+-----+\n",
      "only showing top 20 rows\n",
      "\n"
     ]
    }
   ],
   "source": [
    "clean_df \\\n",
    "    .groupBy(\"minimum_nights\").count() \\\n",
    "    .orderBy(col(\"count\").desc(), col(\"minimum_nights\")) \\\n",
    "    .show()"
   ]
  },
  {
   "cell_type": "code",
   "execution_count": 24,
   "metadata": {},
   "outputs": [
    {
     "name": "stderr",
     "output_type": "stream",
     "text": [
      "24/11/05 16:14:13 WARN TaskSetManager: Stage 39 contains a task of very large size (41281 KiB). The maximum recommended task size is 1000 KiB.\n"
     ]
    },
    {
     "name": "stdout",
     "output_type": "stream",
     "text": [
      "+---------+----------+-----------------+-----------------+-----------------+--------------------+---------------+------------+---------+--------------+--------+----+--------------------+-----+--------------+--------------+-----------------+--------------------+--------------------+----------------+-----------------+\n",
      "|  host_id|host_since|host_is_superhost|         latitude|        longitude|       property_type|      room_type|accommodates|bathrooms|bathrooms_text|bedrooms|beds|           amenities|price|minimum_nights|maximum_nights|number_of_reviews|review_scores_rating|             license|instant_bookable|reviews_per_month|\n",
      "+---------+----------+-----------------+-----------------+-----------------+--------------------+---------------+------------+---------+--------------+--------+----+--------------------+-----+--------------+--------------+-----------------+--------------------+--------------------+----------------+-----------------+\n",
      "|  7355630|2013-07-08|                t|         48.86703|          2.37763|  Entire rental unit|Entire home/apt|           2|      1.0|        1 bath|     1.0| 1.0|[\"Hot water\", \"Co...|110.0|             4|            20|               60|                 4.9|       7511100392930|               f|             0.75|\n",
      "| 78230459|2016-06-17|                t|         48.86021|          2.34155|Room in boutique ...|     Hotel room|           3|      1.0|1 private bath|     1.0| 2.0|[\"Hot water\", \"Co...|405.0|             1|          1125|              171|                4.92|       7510104218766|               t|             1.73|\n",
      "| 14375549|2014-04-16|                t|         48.86738|          2.34663|  Entire rental unit|Entire home/apt|           2|      1.0|        1 bath|     0.0| 1.0|[\"Microwave\", \"Ho...|146.0|             4|          1120|              192|                 4.7|       7510201028033|               f|             1.52|\n",
      "| 33480906|2015-05-16|                f|         48.86672|          2.34516|  Entire rental unit|Entire home/apt|           2|      1.0|        1 bath|     1.0| 1.0|[\"Hot water\", \"Ir...|185.0|             4|            30|               35|                4.74|       7510205331170|               f|             0.32|\n",
      "| 50383400|2015-12-02|                f|         48.83089|          2.32473|  Entire rental unit|Entire home/apt|           2|      1.0|        1 bath|     0.0| 2.0|[\"Garden view\", \"...|232.0|             3|          1125|               38|                4.74|       7511401935543|               f|             0.49|\n",
      "|  5213967|2013-02-24|                t|         48.86417|          2.36336|  Entire rental unit|Entire home/apt|           1|      1.0|        1 bath|     1.0| 1.0|[\"Hot water\", \"St...| 43.0|            30|           700|               15|                4.73|Available with a ...|               f|             0.22|\n",
      "|  6412824|2013-05-15|                f|         48.85785|          2.36843|  Entire rental unit|Entire home/apt|           4|      1.0|        1 bath|     1.0| 2.0|[\"Hot water\", \"St...|140.0|             2|          1125|              106|                4.96|       7510304193471|               f|             1.35|\n",
      "| 67004711|2016-04-13|                f|         48.87554|          2.34276|Room in boutique ...|   Private room|           2|      1.0|1 private bath|     1.0| 1.0|[\"Hot water\", \"Ce...|261.0|             1|            20|               14|                4.57|                 NaN|               t|             0.15|\n",
      "|228866004|2018-12-03|                t|         48.87084|          2.33593|  Entire rental unit|Entire home/apt|           6|      3.5|     3.5 baths|     3.0| 3.0|[\"Hot water\", \"St...|584.0|             3|          1125|               76|                4.75|       7510201432067|               t|              1.1|\n",
      "| 31746474|2015-04-22|                f|48.87270135402019|2.357348729463482|  Entire rental unit|Entire home/apt|           4|      1.0|        1 bath|     1.0| 2.0|[\"Room-darkening ...|164.0|             2|            60|                2|                 5.0|       7511009410294|               t|             0.16|\n",
      "| 51884397|2015-12-21|                f|         48.85404|           2.3249|  Entire rental unit|Entire home/apt|           4|      1.5|     1.5 baths|     1.0| 2.0|[\"Room-darkening ...|180.0|            10|          1125|               27|                4.81|       7510700024143|               f|              0.3|\n",
      "| 24944418|2014-12-17|                t|         48.84692|         2.302567|  Entire rental unit|Entire home/apt|           5|      2.0|       2 baths|     3.0| 3.0|[\"Bathtub\", \"Wifi...|443.0|             3|            65|               60|                4.75|       7511504021808|               t|             0.78|\n",
      "| 26234203|2015-01-17|                t|         48.84071|          2.34875|  Entire rental unit|Entire home/apt|           4|      1.5|     1.5 baths|     1.0| 1.0|[\"Bathtub\", \"Pack...|185.0|             2|            28|              314|                4.86|       7510502890449|               f|             2.69|\n",
      "| 18917060|2014-07-26|                f|         48.84065|          2.35441|  Entire rental unit|Entire home/apt|           3|      1.0|        1 bath|     1.0| 1.0|[\"Wifi\", \"Cooking...|110.0|             5|          1125|               40|                4.68|       7510500044488|               f|             0.42|\n",
      "|  6209063|2013-05-03|                f|         48.85072|          2.37374|  Entire rental unit|Entire home/apt|           2|      1.0|        1 bath|     1.0| 1.0|[\"Wifi\", \"TV with...|150.0|            30|            90|                3|                4.67|Available with a ...|               f|             0.02|\n",
      "|  5254612|2013-02-27|                f|         48.86612|          2.39929|  Entire rental unit|Entire home/apt|           2|      1.0|        1 bath|     1.0| 1.0|[\"Wifi\", \"Cooking...| 95.0|             5|           100|               19|                4.89|       7512000694668|               f|             0.15|\n",
      "|147018685|2017-08-21|                f|          48.8639|          2.35675|  Entire rental unit|Entire home/apt|           2|      1.0|        1 bath|     0.0| 1.0|[\"Pack \\u2019n pl...|153.0|             1|          1125|                6|                3.33|       7510300989206|               f|             0.07|\n",
      "|  3951474|2012-10-23|                f|         48.85865|          2.36941|         Entire loft|Entire home/apt|           4|      1.0|        1 bath|     2.0| 2.0|[\"Hot water\", \"Ov...|250.0|             2|            30|              133|                4.78|       7511102825551|               f|             1.35|\n",
      "|  6755820|2013-06-05|                f|         48.87192|          2.30285|  Entire rental unit|Entire home/apt|           2|      1.0|        1 bath|     1.0| 1.0|[\"Cooking basics\"...|300.0|             1|          1125|               26|                4.62|       7510805301312|               f|             0.26|\n",
      "|236236891|2019-01-13|                t|         48.85315|          2.29006|  Entire rental unit|Entire home/apt|           4|      1.0|        1 bath|     1.0| 2.0|[\"Outdoor furnitu...|176.0|             2|          1125|              256|                 4.8|       7511502059531|               f|             3.76|\n",
      "+---------+----------+-----------------+-----------------+-----------------+--------------------+---------------+------------+---------+--------------+--------+----+--------------------+-----+--------------+--------------+-----------------+--------------------+--------------------+----------------+-----------------+\n",
      "only showing top 20 rows\n",
      "\n"
     ]
    },
    {
     "name": "stderr",
     "output_type": "stream",
     "text": [
      "                                                                                \r"
     ]
    }
   ],
   "source": [
    "min_nights_df = clean_df.filter(col(\"minimum_nights\") <= 90)\n",
    "\n",
    "min_nights_df.show()"
   ]
  },
  {
   "cell_type": "code",
   "execution_count": 26,
   "metadata": {},
   "outputs": [
    {
     "name": "stderr",
     "output_type": "stream",
     "text": [
      "24/11/05 16:14:31 WARN TaskSetManager: Stage 42 contains a task of very large size (41281 KiB). The maximum recommended task size is 1000 KiB.\n"
     ]
    },
    {
     "name": "stdout",
     "output_type": "stream",
     "text": [
      "+---------+----------------+\n",
      "|bathrooms|  bathrooms_text|\n",
      "+---------+----------------+\n",
      "|      3.0|         3 baths|\n",
      "|      1.0|   1 shared bath|\n",
      "|      1.0|   1 shared bath|\n",
      "|      1.0|   1 shared bath|\n",
      "|      1.0|   1 shared bath|\n",
      "|      1.5|1.5 shared baths|\n",
      "|      1.0|          1 bath|\n",
      "|      1.0|          1 bath|\n",
      "|      1.0|          1 bath|\n",
      "|      1.0|          1 bath|\n",
      "|      1.0|          1 bath|\n",
      "|      1.0|          1 bath|\n",
      "|      1.0|          1 bath|\n",
      "|      1.0|          1 bath|\n",
      "|      1.0|          1 bath|\n",
      "|      1.0|          1 bath|\n",
      "|      1.0|          1 bath|\n",
      "|      1.0|          1 bath|\n",
      "|      1.0|          1 bath|\n",
      "|      1.0|          1 bath|\n",
      "+---------+----------------+\n",
      "only showing top 20 rows\n",
      "\n"
     ]
    }
   ],
   "source": [
    "min_nights_df.select('bathrooms', 'bathrooms_text').show()"
   ]
  },
  {
   "cell_type": "code",
   "execution_count": 27,
   "metadata": {},
   "outputs": [
    {
     "name": "stderr",
     "output_type": "stream",
     "text": [
      "24/11/05 16:15:02 WARN TaskSetManager: Stage 45 contains a task of very large size (41281 KiB). The maximum recommended task size is 1000 KiB.\n"
     ]
    },
    {
     "name": "stdout",
     "output_type": "stream",
     "text": [
      "+---------+----------+-----------------+-----------------+-----------------+--------------------+---------------+------------+---------+--------+----+--------------------+-----+--------------+--------------+-----------------+--------------------+--------------------+----------------+-----------------+\n",
      "|  host_id|host_since|host_is_superhost|         latitude|        longitude|       property_type|      room_type|accommodates|bathrooms|bedrooms|beds|           amenities|price|minimum_nights|maximum_nights|number_of_reviews|review_scores_rating|             license|instant_bookable|reviews_per_month|\n",
      "+---------+----------+-----------------+-----------------+-----------------+--------------------+---------------+------------+---------+--------+----+--------------------+-----+--------------+--------------+-----------------+--------------------+--------------------+----------------+-----------------+\n",
      "|  8450558|2013-08-27|                t|         48.86514|          2.34003|  Entire rental unit|Entire home/apt|           2|      1.0|     1.0| 1.0|[\"Hot water\", \"St...|175.0|             3|            20|              199|                4.96|       7510100237115|               f|             1.82|\n",
      "|  8844391|2013-09-15|                f|48.86441265893959|2.316204610620112|                Boat|Entire home/apt|           2|      1.0|     1.0| 0.0|[\"Room-darkening ...|291.0|             2|           365|                3|                4.67|       7510811724789|               f|             0.83|\n",
      "|  7280299|2013-07-04|                f|         48.88808|          2.38216|        Entire condo|Entire home/apt|           5|      2.5|     3.0| 4.0|[\"Room-darkening ...|200.0|             2|          1125|               68|                4.91|       7511900323919|               f|             0.82|\n",
      "| 53912011|2016-01-09|                f|         48.82854|          2.35607|  Entire rental unit|Entire home/apt|           2|      1.0|     1.0| 2.0|[\"Cooking basics\"...| 80.0|             4|          1125|              128|                4.54|       7511303616442|               f|             1.23|\n",
      "| 98666478|2016-10-07|                f|          48.8453|          2.32135|Room in boutique ...|     Hotel room|           2|      1.0|     1.0| 1.0|[\"Wifi\", \"Dedicat...|290.0|             1|          1125|              167|                4.83|                 NaN|               t|              2.3|\n",
      "|196730699|2018-06-20|                f|        48.885323|         2.294169|       Room in hotel|     Hotel room|           2|      1.0|     1.0| 1.0|[\"Elevator\", \"TV ...|189.0|             1|          1125|                1|                 5.0|                 NaN|               t|             0.02|\n",
      "| 50430041|2015-12-03|                t|        48.862659|         2.398863|    Entire townhouse|Entire home/apt|           2|      1.0|     1.0| 1.0|[\"Cooking basics\"...| 80.0|             4|            21|              150|                 4.9|       7512000850660|               f|             1.54|\n",
      "|   101628|2010-03-31|                f|          48.8508|          2.31073|  Entire rental unit|Entire home/apt|           4|      1.0|     2.0| 2.0|[\"Cooking basics\"...|245.0|             3|            23|              137|                4.88|       7510700890116|               f|             1.06|\n",
      "| 26527979|2015-01-22|                f|         48.85106|          2.26853|  Entire rental unit|Entire home/apt|           2|      1.0|     0.0| 1.0|[\"Hot water\", \"St...| 78.0|            30|           300|               23|                4.48|Available with a ...|               f|             0.21|\n",
      "| 35455868|2015-06-10|                t|         48.85026|           2.3361|  Entire rental unit|Entire home/apt|           4|      1.5|     1.0| 2.0|[\"Cooking basics\"...|184.0|             2|          1125|              118|                4.81|       7510600030110|               f|              1.3|\n",
      "| 11383044|2014-01-17|                t|         48.89225|          2.31726|Private room in r...|   Private room|           2|      1.0|     1.0| 1.0|[\"Hot water\", \"Co...| 65.0|             1|          1125|               24|                4.96|       7511701379887|               f|              0.3|\n",
      "|  9033869|2013-09-24|                f|         48.82955|          2.35087|  Entire rental unit|Entire home/apt|           2|      1.0|     0.0| 1.0|[\"Wifi\", \"Cooking...| 90.0|            90|          1125|               32|                4.81|Available with a ...|               f|             0.24|\n",
      "| 23557000|2014-11-10|                f|          48.8541|          2.29558|  Entire rental unit|Entire home/apt|           2|      1.0|     1.0| 1.0|[\"Smoke alarm\", \"...|120.0|             3|           730|              156|                4.91|       7511500420831|               f|              1.4|\n",
      "| 20162198|2014-08-17|                f|         48.83207|          2.28109|  Entire rental unit|Entire home/apt|           4|      1.0|     1.0| 1.0|[\"Cooking basics\"...|110.0|             5|          1125|              146|                 4.7|Exempt - hotel-ty...|               t|             1.45|\n",
      "| 66036934|2016-04-06|                t|         48.85937|          2.37013|        Entire condo|Entire home/apt|           4|      1.0|     1.0| 2.0|[\"Hot water\", \"St...|209.0|             2|            35|              158|                4.76|       7511105095054|               t|             1.95|\n",
      "|169241469|2018-01-22|                f|         48.89408|          2.34978|       Room in hotel|   Private room|           2|      1.0|     1.0| 1.0|[\"Fire extinguish...| 71.0|             3|           330|               78|                4.37|                 NaN|               f|             1.01|\n",
      "| 25436613|2014-12-31|                f|         48.86334|          2.35595|  Entire rental unit|Entire home/apt|           2|      1.0|     1.0| 1.0|[\"Cooking basics\"...|118.0|             4|          1125|              105|                4.84|       7510300262102|               f|             1.24|\n",
      "| 50978178|2015-12-10|                f|         48.87526|          2.32572|  Entire rental unit|Entire home/apt|           4|      1.0|     1.0| 2.0|[\"Cooking basics\"...|246.0|             1|          1125|               64|                4.27|       7510802413779|               t|             0.94|\n",
      "| 69907184|2016-05-02|                t|         48.85592|          2.38086|Private room in r...|   Private room|           2|      1.0|     1.0| 1.0|[\"Hot water\", \"St...| 76.0|             2|          1125|              347|                4.82|                 NaN|               f|             3.66|\n",
      "|135259784|2017-06-15|                f|          48.8573|          2.40269|  Entire rental unit|Entire home/apt|           3|      1.5|     1.0| 2.0|[\"Hot water\", \"St...| 92.0|             1|            30|              204|                4.72|       7512003312579|               t|             2.67|\n",
      "+---------+----------+-----------------+-----------------+-----------------+--------------------+---------------+------------+---------+--------+----+--------------------+-----+--------------+--------------+-----------------+--------------------+--------------------+----------------+-----------------+\n",
      "only showing top 20 rows\n",
      "\n"
     ]
    },
    {
     "name": "stderr",
     "output_type": "stream",
     "text": [
      "                                                                                \r"
     ]
    }
   ],
   "source": [
    "from pyspark.sql.functions import element_at, split\n",
    "bathrooms_df = min_nights_df.withColumn('bathrooms', element_at(split('bathrooms_text', ' '), 1).cast('double')).drop('bathrooms_text')\n",
    "\n",
    "bathrooms_df.show()"
   ]
  },
  {
   "cell_type": "code",
   "execution_count": 28,
   "metadata": {},
   "outputs": [],
   "source": [
    "boolean_df = (\n",
    "  bathrooms_df\n",
    "  .withColumn('instant_bookable', col('instant_bookable') == 't')\n",
    "  .withColumn('host_is_superhost', col('host_is_superhost') == 't')\n",
    ")"
   ]
  },
  {
   "cell_type": "code",
   "execution_count": 30,
   "metadata": {},
   "outputs": [
    {
     "name": "stderr",
     "output_type": "stream",
     "text": [
      "24/11/05 16:15:57 WARN TaskSetManager: Stage 48 contains a task of very large size (41281 KiB). The maximum recommended task size is 1000 KiB.\n",
      "[Stage 50:==================================================>    (91 + 4) / 100]\r"
     ]
    },
    {
     "name": "stdout",
     "output_type": "stream",
     "text": [
      "+--------------------+-----+\n",
      "|                item|count|\n",
      "+--------------------+-----+\n",
      "| 56 inch hdtv wit...|    1|\n",
      "| dr barbara sturm...|    1|\n",
      "| samsung  stainle...|    1|\n",
      "| rosiu00e8re stai...|    1|\n",
      "| 1 inch hdtv with...|    1|\n",
      "| rosiere.  ne pas...|    1|\n",
      "| garnier ultra do...|    1|\n",
      "| timoteu00ef cond...|    1|\n",
      "| electrical stain...|    1|\n",
      "| les choses simpl...|    1|\n",
      "| les choses simpl...|    1|\n",
      "|   hema  conditioner|    1|\n",
      "| muzzu produit ar...|    1|\n",
      "| fast wifi u2013 ...|    1|\n",
      "|         divers oven|    1|\n",
      "|   respire body soap|    1|\n",
      "| fast wifi u2013 ...|    1|\n",
      "| 39 inch hdtv wit...|    1|\n",
      "| 85 inch hdtv wit...|    1|\n",
      "| u00abu00a0 jbl o...|    1|\n",
      "+--------------------+-----+\n",
      "only showing top 20 rows\n",
      "\n"
     ]
    },
    {
     "name": "stderr",
     "output_type": "stream",
     "text": [
      "                                                                                \r"
     ]
    }
   ],
   "source": [
    "from pyspark.sql.functions import explode, lower\n",
    "\n",
    "amenities_df = boolean_df.withColumn('amenities', split(translate('amenities', '\\\\]\\\\[\\\\\"', ''), ','))\n",
    "\n",
    "\n",
    "amenities_df \\\n",
    "  .select(explode('amenities')) \\\n",
    "  .withColumn('item', lower('col')) \\\n",
    "  .groupBy('item').count() \\\n",
    "  .sort('count') \\\n",
    "  .show()\n"
   ]
  },
  {
   "cell_type": "markdown",
   "metadata": {},
   "source": [
    "## Ultimate function which combines all previous transformation"
   ]
  },
  {
   "cell_type": "code",
   "execution_count": 32,
   "metadata": {},
   "outputs": [
    {
     "name": "stderr",
     "output_type": "stream",
     "text": [
      "24/11/05 16:18:29 WARN TaskSetManager: Stage 54 contains a task of very large size (41281 KiB). The maximum recommended task size is 1000 KiB.\n",
      "[Stage 54:>                                                         (0 + 1) / 1]\r"
     ]
    },
    {
     "name": "stdout",
     "output_type": "stream",
     "text": [
      "+-------+----------+-----------------+-----------------+-----------------+------------------+---------------+------------+---------+--------+----+--------------------+-----+--------------+--------------+-----------------+--------------------+--------------------+----------------+-----------------+\n",
      "|host_id|host_since|host_is_superhost|         latitude|        longitude|     property_type|      room_type|accommodates|bathrooms|bedrooms|beds|           amenities|price|minimum_nights|maximum_nights|number_of_reviews|review_scores_rating|             license|instant_bookable|reviews_per_month|\n",
      "+-------+----------+-----------------+-----------------+-----------------+------------------+---------------+------------+---------+--------+----+--------------------+-----+--------------+--------------+-----------------+--------------------+--------------------+----------------+-----------------+\n",
      "|   3631|2008-10-14|            false|         48.83191|           2.3187|Entire rental unit|Entire home/apt|           2|      1.0|     1.0| 1.0|[Cooking basics, ...|113.0|             2|            30|                4|                 5.0|       7511409139079|            true|             0.05|\n",
      "|   7903|2009-02-14|            false|         48.85247|          2.35835|Entire rental unit|Entire home/apt|           2|      1.0|     0.0| 1.0|[Hot water,  Stov...| 95.0|             2|           730|              413|                4.61|       7510402838018|           false|             2.23|\n",
      "|   2626|2008-08-30|             true|         48.85909|          2.35315|Entire rental unit|Entire home/apt|           4|      1.0|     2.0| 1.0|[Host greets you,...|145.0|            10|           130|              360|                4.73|       7510400829623|           false|              2.2|\n",
      "|  33534|2009-08-24|            false|         48.86373|          2.37093|Entire rental unit|Entire home/apt|           2|      1.0|     1.0| 1.0|[Hot water,  Stov...|246.0|             4|            31|               51|                4.92|       7511101582862|           false|             0.36|\n",
      "|  37107|2009-09-08|             true|           48.887|          2.34531|Entire rental unit|Entire home/apt|           2|      1.0|     0.0| 4.0|[Room-darkening s...| 80.0|            30|           300|               54|                4.84|Available with a ...|           false|              0.3|\n",
      "|  42666|2009-10-01|             true|         48.86441|          2.37139|Entire rental unit|Entire home/apt|           1|      1.0|     0.0| 1.0|[Hot water,  Coff...| 80.0|            30|           305|               12|                4.92|Available with a ...|           false|             0.08|\n",
      "|  44444|2009-10-08|            false|48.82524108886719|2.367469072341919|       Entire loft|Entire home/apt|           2|      1.0|     1.0| 1.0|[Cooking basics, ...|124.0|             3|          1125|              121|                4.84|       7511300241931|           false|             0.83|\n",
      "|  48733|2009-10-28|            false|         48.86159|          2.37952|Entire rental unit|Entire home/apt|           4|      1.0|     2.0| 2.0|[Oven,  Dishes an...|208.0|             1|            45|               62|                4.82|       7511102600669|            true|              0.8|\n",
      "| 464019|2011-03-26|            false|         48.88238|          2.33831|Entire rental unit|Entire home/apt|           3|      1.5|     1.0| 1.0|[Hot water,  Coff...|130.0|             3|            60|              133|                4.88|       7511801291867|           false|             0.82|\n",
      "| 296615|2010-11-23|             true|         48.86033|          2.34005|Entire rental unit|Entire home/apt|           4|      1.0|     1.0| 2.0|[Hot water,  Stov...|306.0|             3|           120|              216|                4.88|       7510100912155|           false|             1.38|\n",
      "| 500672|2011-04-11|            false|         48.86706|          2.34726|Entire rental unit|Entire home/apt|           4|      1.0|     1.0| 2.0|[Arcade games,  O...|222.0|             3|           300|              382|                4.77|       7510201768302|           false|             2.35|\n",
      "| 276063|2010-11-01|             true|         48.83572|          2.33054|       Entire loft|Entire home/apt|           4|      1.0|     2.0| 3.0|[Cooking basics, ...|159.0|            30|           365|               30|                4.72|Available with a ...|           false|             0.18|\n",
      "| 505518|2011-04-13|            false|         48.86501|          2.39532|Entire rental unit|Entire home/apt|           2|      1.0|     1.0| 1.0|[Host greets you,...| 55.0|             7|           150|               12|                 5.0|       7512002915374|           false|             0.08|\n",
      "|  97702|2010-03-23|            false|         48.85484|           2.3897|Entire rental unit|Entire home/apt|           2|      1.0|     1.0| 1.0|[Bathtub,  Wifi, ...|160.0|             3|            90|               29|                4.93|       7511102371532|           false|             0.18|\n",
      "|1298369|2011-10-16|            false|         48.86918|          2.36945|Entire rental unit|Entire home/apt|           2|      1.0|     1.0| 1.0|[Hot water,  Stov...| 85.0|             4|            30|               59|                4.64|       7511000908938|           false|             0.38|\n",
      "|1298530|2011-10-16|            false|         48.87473|          2.36061|Entire rental unit|Entire home/apt|           2|      1.0|     1.0| 1.0|[Hot water,  Stov...|140.0|             5|            31|               50|                4.94|       7511002875563|           false|             0.32|\n",
      "| 517155|2011-04-18|            false|         48.85523|          2.37332|       Entire loft|Entire home/apt|           6|      2.5|     3.0| 4.0|[Hot water,  Stov...|344.0|            13|           400|               37|                4.84|       7511105188292|           false|             0.23|\n",
      "| 529347|2011-04-23|            false|  48.853381616253|2.294888842165164|Entire rental unit|Entire home/apt|           2|      1.0|     1.0| 0.0|[Wifi,  Dishwashe...|685.0|             5|            45|              132|                4.97|       7511512176934|           false|             0.82|\n",
      "| 546512|2011-04-30|             true|48.86281204223633|2.352993965148926|Entire rental unit|Entire home/apt|           2|      1.0|     1.0| 1.0|[Host greets you,...|205.0|             4|            30|              316|                4.87|       7510300876269|           false|             1.95|\n",
      "| 561870|2011-05-06|             true|          48.8742|            2.297|Entire rental unit|Entire home/apt|           5|      2.0|     2.0| 4.0|[Room-darkening s...|289.0|            30|           365|               31|                 5.0|Available with a ...|           false|             0.29|\n",
      "+-------+----------+-----------------+-----------------+-----------------+------------------+---------------+------------+---------+--------+----+--------------------+-----+--------------+--------------+-----------------+--------------------+--------------------+----------------+-----------------+\n",
      "only showing top 20 rows\n",
      "\n"
     ]
    },
    {
     "name": "stderr",
     "output_type": "stream",
     "text": [
      "24/11/05 16:18:33 WARN PythonRunner: Detected deadlock while completing task 0.0 in stage 54 (TID 565): Attempting to kill Python Worker\n",
      "                                                                                \r"
     ]
    }
   ],
   "source": [
    "def prepare_paris_listings(raw_df):\n",
    "\n",
    "  columns_to_keep = [\n",
    "      'host_id','host_since','host_is_superhost','latitude','longitude','property_type','room_type','accommodates','bathrooms','bathrooms_text','bedrooms','beds','amenities','price','minimum_nights','maximum_nights', 'number_of_reviews','review_scores_rating','license','instant_bookable','reviews_per_month'\n",
    "  ]\n",
    "  \n",
    "  df = (\n",
    "    raw_df.select(columns_to_keep)\n",
    "    .withColumn(\"price\", translate(col(\"price\"), \"$,\", \"\").cast(\"float\"))\n",
    "    .dropna()\n",
    "    .filter(col(\"price\") <= 10000)\n",
    "    .filter(col(\"minimum_nights\") <= 90)\n",
    "    .withColumn('bathrooms', element_at(split('bathrooms_text', ' '), 1).cast('double')).drop('bathrooms_text')\n",
    "    .withColumn('host_since', to_date('host_since'))\n",
    "    .withColumn('instant_bookable', col('instant_bookable') == 't')\n",
    "    .withColumn('host_is_superhost', col('host_is_superhost') == 't')\n",
    "    .withColumn('amenities', split(translate('amenities', '\\\\]\\\\[\\\\\"', ''), ','))\n",
    "  )\n",
    "\n",
    "  return df \n",
    "\n",
    "df = prepare_paris_listings(listings_df)\n",
    "df.show()"
   ]
  }
 ],
 "metadata": {
  "kernelspec": {
   "display_name": "Python 3",
   "language": "python",
   "name": "python3"
  },
  "language_info": {
   "codemirror_mode": {
    "name": "ipython",
    "version": 3
   },
   "file_extension": ".py",
   "mimetype": "text/x-python",
   "name": "python",
   "nbconvert_exporter": "python",
   "pygments_lexer": "ipython3",
   "version": "3.11.4"
  }
 },
 "nbformat": 4,
 "nbformat_minor": 2
}
